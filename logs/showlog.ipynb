{
 "cells": [
  {
   "cell_type": "code",
   "execution_count": 58,
   "id": "4b7a1b0c",
   "metadata": {},
   "outputs": [],
   "source": [
    "import torch \n",
    "import numpy as np\n",
    "import matplotlib.pyplot as plt\n",
    "import json\n",
    "import math"
   ]
  },
  {
   "cell_type": "code",
   "execution_count": null,
   "id": "4bb27712",
   "metadata": {},
   "outputs": [],
   "source": []
  },
  {
   "cell_type": "code",
   "execution_count": 10,
   "id": "b8cea87c",
   "metadata": {},
   "outputs": [],
   "source": [
    "fname = 'BigGAN_C10_seed0_Gch64_Dch64_bs128_nDs4_Glr2.0e-04_Dlr2.0e-04_Gnlrelu_Dnlrelu_GinitN02_DinitN02_ema'"
   ]
  },
  {
   "cell_type": "code",
   "execution_count": 61,
   "id": "d8725162",
   "metadata": {},
   "outputs": [],
   "source": [
    "def parse_log(fname, loss):\n",
    "    itr = []\n",
    "    loss_val = []\n",
    "    with open(fname+'/'+loss+'.log') as f:\n",
    "        t = f.readlines()\n",
    "        for i, item in enumerate(t):\n",
    "            it, val = item.split(\":\")\n",
    "            itr.append(int(it))\n",
    "            loss_val.append(float(val))\n",
    "    return np.array(itr), np.array(loss_val)\n",
    "\n",
    "def parse_eval_log(fname):\n",
    "    itr = []\n",
    "    ISm = []\n",
    "    ISs = []\n",
    "    iFID = []\n",
    "    FID = []\n",
    "    P = []\n",
    "    R = []\n",
    "    with open(fname+'_log.jsonl') as f:\n",
    "        t = f.readlines()\n",
    "        for i, item in enumerate(t):\n",
    "            iteration = json.loads(item)\n",
    "            itr.append(iteration['itr'])\n",
    "            ISm.append(iteration['IS_mean'])\n",
    "            ISs.append(iteration['IS_std'])\n",
    "            P.append(iteration['P'])\n",
    "            R.append(iteration['R'])\n",
    "            if not math.isnan(iteration['FID']):  \n",
    "                iFID.append(iteration['itr'])\n",
    "                FID.append(iteration['FID'])\n",
    "\n",
    "    return  itr, ISm, ISs, iFID, FID, P, R\n",
    "def outlier(x):\n",
    "    ypbot = np.percentile(x, 0.5)\n",
    "    yptop = np.percentile(x, 99.5)\n",
    "\n",
    "    ypad = 0.2*(yptop - ypbot)\n",
    "    ymin = ypbot - ypad\n",
    "    ymax = yptop + ypad\n",
    "    return ymin, ymax"
   ]
  },
  {
   "cell_type": "code",
   "execution_count": 63,
   "id": "d30fb0e1",
   "metadata": {},
   "outputs": [],
   "source": [
    "itr, ISm, ISs, iFID, FID, P, R = parse_eval_log(fname)"
   ]
  },
  {
   "cell_type": "code",
   "execution_count": 44,
   "id": "b71d601d",
   "metadata": {},
   "outputs": [],
   "source": [
    "itr, loss = parse_log(fname, 'G_loss')"
   ]
  },
  {
   "cell_type": "code",
   "execution_count": 65,
   "id": "3c1f53eb",
   "metadata": {},
   "outputs": [
    {
     "data": {
      "text/plain": [
       "[<matplotlib.lines.Line2D at 0x7f3b1f7caac0>]"
      ]
     },
     "execution_count": 65,
     "metadata": {},
     "output_type": "execute_result"
    },
    {
     "data": {
      "image/png": "[encoded data removed]",
      "text/plain": [
       "<Figure size 640x480 with 1 Axes>"
      ]
     },
     "metadata": {},
     "output_type": "display_data"
    }
   ],
   "source": [
    "plt.plot(itr, P)\n",
    "plt.plot(itr, R)\n"
   ]
  },
  {
   "cell_type": "code",
   "execution_count": 20,
   "id": "e14ee57a",
   "metadata": {},
   "outputs": [
    {
     "data": {
      "text/plain": [
       "(-1.8620320000000001, 1.2569720000000002)"
      ]
     },
     "execution_count": 20,
     "metadata": {},
     "output_type": "execute_result"
    }
   ],
   "source": [
    "outlier(loss)"
   ]
  },
  {
   "cell_type": "code",
   "execution_count": null,
   "id": "a1e7cade",
   "metadata": {},
   "outputs": [],
   "source": []
  }
 ],
 "metadata": {
  "kernelspec": {
   "display_name": "Python 3 (ipykernel)",
   "language": "python",
   "name": "python3"
  },
  "language_info": {
   "codemirror_mode": {
    "name": "ipython",
    "version": 3
   },
   "file_extension": ".py",
   "mimetype": "text/x-python",
   "name": "python",
   "nbconvert_exporter": "python",
   "pygments_lexer": "ipython3",
   "version": "3.9.2"
  }
 },
 "nbformat": 4,
 "nbformat_minor": 5
}
